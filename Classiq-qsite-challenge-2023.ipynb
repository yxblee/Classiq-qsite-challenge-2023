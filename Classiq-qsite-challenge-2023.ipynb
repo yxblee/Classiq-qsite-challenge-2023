{
 "cells": [
  {
   "cell_type": "code",
   "execution_count": null,
   "metadata": {},
   "outputs": [],
   "source": [
    "!pip install classiq"
   ]
  },
  {
   "cell_type": "code",
   "execution_count": null,
   "metadata": {},
   "outputs": [],
   "source": [
    "from classiq import (\n",
    "    Model,\n",
    "    RegisterUserInput,\n",
    "    construct_grover_model,\n",
    "    execute,\n",
    "    set_constraints,\n",
    "    show,\n",
    "    synthesize,\n",
    ")\n",
    "from classiq.builtin_functions import ArithmeticOracle, GroverOperator, StatePreparation\n",
    "from classiq.execution import ExecutionDetails"
   ]
  },
  {
   "cell_type": "markdown",
   "metadata": {},
   "source": [
    "Game Board\n",
    "\n",
    "||x1|x2|x3|x4|\n",
    "|---|---|---|---|---|\n",
    "|y1|2|-|-|-|\n",
    "|y2|-|-|3|-|\n",
    "|y3|-|4|-|-|\n",
    "|y4|-|-|-|1|\n",
    "\n",
    "\n",
    "Coversion to SAT problem\n",
    "|x-axis|m1|m2|m3|m4|\n",
    "|---|---|---|---|---|\n",
    "|m1|-|x1|x2|x3|\n",
    "|m2|x4|-|x5|x6|\n",
    "|m3|x7|x8|-|x9|\n",
    "|m4|x10|x11|x12|-|\n",
    "\n",
    "|y-axis|n1|n2|n3|n4|\n",
    "|---|---|---|---|---|\n",
    "|n1|-|y1|y2|y3|\n",
    "|n2|y4|-|y5|y6|\n",
    "|n3|y7|y8|-|y9|\n",
    "|n4|y10|y11|y12|-|\n",
    "\n",
    "CNF\n",
    "\n",
    "f(x) = (\n",
    "((x1) ^ (x2) ^ (x3)) and ((x4) ^ (x5) ^ (x6)) and ((x7) ^ (x8) ^ (x9)) and ((x10) ^ (x11) ^ (12)) and \n",
    "((x4) ^ (x7) ^ (x10)) and ((x1) ^ (x8) ^ (x11)) and ((x2) ^ (x5) ^ (x12)) and ((x3) ^ (x6) ^ (x9)) \n",
    ")\n"
   ]
  },
  {
   "cell_type": "code",
   "execution_count": null,
   "metadata": {},
   "outputs": [],
   "source": [
    "formula = \"( ((x1) ^ (x2) ^ (x3)) and ((x4) ^ (x5) ^ (x6)) and ((x7) ^ (x8) ^ (x9)) and ((x10) ^ (x11) ^ (12)) and ((x4) ^ (x7) ^ (x10)) and ((x1) ^ (x8) ^ (x11)) and ((x2) ^ (x5) ^ (x12)) and ((x3) ^ (x6) ^ (x9)) )\"\n",
    "\n",
    "register_size = RegisterUserInput(size=1)\n",
    "\n",
    "model = construct_grover_model(\n",
    "    expression=formula,\n",
    "    definitions=[\n",
    "        (\"x1\", register_size),\n",
    "        (\"x2\", register_size),\n",
    "        (\"x3\", register_size),\n",
    "        (\"x4\", register_size),\n",
    "        (\"x5\", register_size),\n",
    "        (\"x6\", register_size),\n",
    "    ],\n",
    "    uncomputation_method=\"optimized\",  \n",
    "    num_reps=1,\n",
    ")"
   ]
  },
  {
   "cell_type": "code",
   "execution_count": null,
   "metadata": {},
   "outputs": [],
   "source": [
    "qprog = synthesize(model)\n",
    "show(qprog)"
   ]
  },
  {
   "cell_type": "code",
   "execution_count": null,
   "metadata": {},
   "outputs": [],
   "source": [
    "result = execute(qprog).result()\n",
    "res = result[0].value\n",
    "registers = (\"x1\", \"x2\", \"x3\",\"x4\", \"x5\", \"x6\")\n",
    "res_by_regs = res.counts_of_multiple_outputs(registers)\n",
    "most_common_res = max(res_by_regs, key=res_by_regs.get)\n",
    "dict(zip(registers, most_common_res))"
   ]
  }
 ],
 "metadata": {
  "language_info": {
   "name": "python"
  },
  "orig_nbformat": 4
 },
 "nbformat": 4,
 "nbformat_minor": 2
}
