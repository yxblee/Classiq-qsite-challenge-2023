{
 "cells": [
  {
   "cell_type": "code",
   "execution_count": null,
   "metadata": {},
   "outputs": [],
   "source": [
    "!pip install classiq"
   ]
  },
  {
   "cell_type": "code",
   "execution_count": null,
   "metadata": {},
   "outputs": [],
   "source": [
    "from classiq import (\n",
    "    Model,\n",
    "    RegisterUserInput,\n",
    "    construct_grover_model,\n",
    "    execute,\n",
    "    set_constraints,\n",
    "    show,\n",
    "    synthesize,\n",
    ")\n",
    "from classiq.builtin_functions import ArithmeticOracle, GroverOperator, StatePreparation\n",
    "from classiq.execution import ExecutionDetails"
   ]
  },
  {
   "cell_type": "markdown",
   "metadata": {},
   "source": [
    "**Game Board**\n",
    "\n",
    "|m/n|x1|x2|x3|x4|\n",
    "|---|---|---|---|---|\n",
    "|y1|2|-|-|-|\n",
    "|y2|-|-|3|-|\n",
    "|y3|-|4|-|-|\n",
    "|y4|-|-|-|1|\n",
    "\n",
    "Notes: \n",
    "- each space can only contain one number\n",
    "- (1,1), (2,3), (3,2), (4,4) already taken up\n",
    "- for each number, it may be present only once per: row, column, 2x2 matrix\n",
    "  - ie. no same number may be present in a row, column, or 2x2 matrix\n",
    "- given the board, since the 4 preset numbers are unique and placed in separate matrix: possible placement options for each number is 5 (16 total - 4 placed in each matrix - (4+3) in corresponding row+column), and total placement required for each number is 3\n",
    "  - ie. 3 out of 5 placements for each number must be valid: need to find the correct combinations 5C3 for 4 numbers\n",
    "\n",
    "**Coversion to SAT problem**\n",
    "\n",
    "|x-axis|m1|m2|m3|m4|\n",
    "|---|---|---|---|---|\n",
    "|1|x1|x2|x3|-|\n",
    "|2|-|x4|x5|x6|\n",
    "|3|x7|x8|-|x9|\n",
    "|4|x10|-|x11|x12|\n",
    "\n",
    "CNF: f(x) = (\n",
    "((x1) ^ (x2) ^ (x3)) and ((x4) ^ (x5) ^ (x6)) and ((x7) ^ (x8) ^ (x9)) and ((x10) ^ (x11) ^ (x12)) and \n",
    "((x1) ^ (x7) ^ (x10)) and ((x2) ^ (x4) ^ (x8)) and ((x3) ^ (x5) ^ (x11)) and ((x6) ^ (x9) ^ (x12)) \n",
    ")\n",
    "\n",
    "|y-axis|n1|n2|n3|n4|\n",
    "|---|---|---|---|---|\n",
    "|1|y1|y2|y3|-|\n",
    "|2|-|y4|y5|y6|\n",
    "|3|y7|-|y8|y9|\n",
    "|4|y10|y11|-|y12|\n",
    "\n",
    "CNF: f(y) = (\n",
    "((y1) ^ (y2) ^ (y3)) and ((y4) ^ (y5) ^ (y6)) and ((y7) ^ (y8) ^ (y9)) and ((y10) ^ (y11) ^ (y12)) and \n",
    "((y1) ^ (y7) ^ (y10)) and ((y2) ^ (y4) ^ (y11)) and ((y3) ^ (y5) ^ (y8)) and ((y6) ^ (y9) ^ (y12)) \n",
    ")\n",
    "\n",
    "|(x,y)|(1,1)|(1,2)|(1,3)|(1,4)|(2,1)|(2,2)|(2,3)|(2,4)|(3,1)|(3,2)|(3,3)|(3,4)|(4,1)|(4,2)|(4,3)|(4,4)|\n",
    "|---|---|---|---|---|---|---|---|---|---|---|---|---|---|---|---|---|\n",
    "|1|taken|xy1|xy2|-|xy3|xy4|taken|-|xy5|taken|-|-|-|-|-|taken|\n",
    "|2|taken|-|-|-|-|-|taken|xy6|-|taken|xy7|xy8|-|xy9|xy10|taken|\n",
    "|3|taken|-|xy11|xy12|xy13|-|taken|xy14|-|taken|-|-|-|-|xy15|taken|\n",
    "|4|taken|xy16|-|-|-|-|taken|-|xy17|taken|-|x18|x19|x20|-|taken|\n",
    "\n",
    "CNF: f(xy) = (\n",
    "\n",
    "  ((xy1) ^ (xy2)) and ((xy3) ^ (xy4)) and ((xy5)) and \n",
    "  ((xy6)) and ((xy7) ^ (xy8)) and ((xy9)) ^ ((xy10)) and\n",
    "  ((xy11) ^ (xy12)) and ((xy13) ^ (xy14)) and ((xy15)) and\n",
    "  ((xy16)) and ((xy17)) ^ ((xy18)) and ((xy19) ^ (xy20)) and\n",
    "\n",
    "  ((xy1) ^ (xy16)) and ((xy2) ^ (xy11)) and ((xy12)) and \n",
    "  ((xy3) ^ (xy13)) and ((xy4)) and ((xy6)) ^ ((xy14)) and\n",
    "  ((xy5) ^ (xy17)) and ((xy7)) and ((xy8) ^ (xy18)) and\n",
    "  ((xy19)) and ((xy9)) ^ ((xy20)) and ((xy10) ^ (xy15)) and\n",
    "\n",
    ")"
   ]
  },
  {
   "cell_type": "code",
   "execution_count": null,
   "metadata": {},
   "outputs": [],
   "source": [
    "# formula = \"( ((x1) ^ (x2) ^ (x3)) and ((x4) ^ (x5) ^ (x6)) and ((x7) ^ (x8) ^ (x9)) and ((x10) ^ (x11) ^ (12)) and ((x4) ^ (x7) ^ (x10)) and ((x1) ^ (x8) ^ (x11)) and ((x2) ^ (x5) ^ (x12)) and ((x3) ^ (x6) ^ (x9)) )\"\n",
    "\n",
    "register_size = RegisterUserInput(size=1)\n",
    "\n",
    "model = construct_grover_model(\n",
    "    expression=formula,\n",
    "    definitions=[\n",
    "        (\"x1\", register_size),\n",
    "        (\"x2\", register_size),\n",
    "        (\"x3\", register_size),\n",
    "        (\"x4\", register_size),\n",
    "        (\"x5\", register_size),\n",
    "        (\"x6\", register_size),\n",
    "        (\"x7\", register_size),\n",
    "        (\"x8\", register_size),\n",
    "        (\"x9\", register_size),\n",
    "        (\"x10\", register_size),\n",
    "        (\"x11\", register_size),\n",
    "        (\"x12\", register_size),\n",
    "    ],\n",
    "    uncomputation_method=\"optimized\",  \n",
    "    num_reps=1,\n",
    ")"
   ]
  },
  {
   "cell_type": "code",
   "execution_count": null,
   "metadata": {},
   "outputs": [],
   "source": [
    "qprog = synthesize(model)\n",
    "show(qprog)"
   ]
  },
  {
   "cell_type": "code",
   "execution_count": null,
   "metadata": {},
   "outputs": [],
   "source": [
    "result = execute(qprog).result()\n",
    "res = result[0].value\n",
    "registers = (\"x1\", \"x2\", \"x3\",\"x4\", \"x5\", \"x6\")\n",
    "res_by_regs = res.counts_of_multiple_outputs(registers)\n",
    "most_common_res = max(res_by_regs, key=res_by_regs.get)\n",
    "dict(zip(registers, most_common_res))"
   ]
  }
 ],
 "metadata": {
  "language_info": {
   "name": "python"
  },
  "orig_nbformat": 4
 },
 "nbformat": 4,
 "nbformat_minor": 2
}
